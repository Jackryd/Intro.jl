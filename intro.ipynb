{
 "cells": [
  {
   "cell_type": "code",
   "execution_count": null,
   "metadata": {},
   "outputs": [],
   "source": [
    "# setup\n",
    "\n",
    "# I use my own startup.jl file. See:\n",
    "# https://gist.github.com/AntonOresten/e37c22afe5798604a43eb520e3f40c71/5c377e1a426e078ed3716c6b905a1832109b2332\n",
    "\n",
    "using Pkg\n",
    "Pkg.activate(\"intro\", shared=true) # shared environment\n",
    "Pkg.add([\n",
    "    \"CUDA\", \"Colors\", \"Einops\", \"SpecialFunctions\",\n",
    "    \"Symbolics\", \"ThreadsX\", \"Zygote\", \"StyledStrings\",\n",
    "    \"Optimisers\",\n",
    "])\n",
    "\n",
    "using StyledStrings\n",
    "using Dates\n",
    "\n",
    "function welcome()\n",
    "    poem = styled\"\"\"\n",
    "        Roses are {red:red}\n",
    "            Violets are {blue:blue}\n",
    "          Welcome to my talk.\n",
    "              My name is {green:Anton}.\n",
    "            I'm a bioinformatician\n",
    "                in the Murrell lab\n",
    "              here at Karolinska.\n",
    "                  I like making Julia packages.\n",
    "                The time is currently $(now()) (UTC)\"\"\"\n",
    "\n",
    "    print(poem)\n",
    "end;"
   ]
  },
  {
   "cell_type": "markdown",
   "metadata": {},
   "source": [
    "# ***Introduction to Scientific Programming in Julia***\n",
    "\n",
    "<img width=\"25%\" src=\"https://seekvectors.com/files/download/Julia%20Language-logo.png\">"
   ]
  },
  {
   "cell_type": "code",
   "execution_count": null,
   "metadata": {},
   "outputs": [],
   "source": [
    "welcome()"
   ]
  },
  {
   "cell_type": "markdown",
   "metadata": {},
   "source": [
    "# **Why Julia?** - an intro-intro\n",
    "\n",
    "## **The two-language problem**\n",
    "\n",
    "<img width=\"70%\" src=\"https://cdn.hashnode.com/res/hashnode/image/upload/v1681735971356/91b6e886-7ce1-41a3-9d9f-29b7b096e7f2.png\" />\n",
    "\n",
    "Programmers are often faced with a dilemma when choosing a language for a project, often having to trade accessibility and development speed for performance:\n",
    "\n",
    "- Interpreted languages like *Python* and *R* have relatively simple APIs and syntax, and a clear separation of concerns between the user and machine. While allowing end users to do great things using pre-bundled functions, this simplicity limits lower level control over hardware and performance.\n",
    "\n",
    "- Compiled languages like *C++* and *Rust* require more technical knowledge, and users often need to work at the hardware level, limiting the ability to interactively work with problems at a high level in tight feedback loops. These compiled languages deliver performance but require lengthy compile-edit-debug cycles.\n",
    "\n",
    "### **Example: approximating $\\pi$ with the Basel series**\n",
    "\n",
    "The sum of the first 100 million terms in the Basel series can be expressed in mathematical terms as:\n",
    "\n",
    "$$\n",
    "\\sum_{i=1}^{10^8} \\frac{1}{i^2} = \\frac{1}{1} + \\frac{1}{4} + \\frac{1}{9} + \\ldots + \\frac{1}{10^{16}} \\approx \\frac{\\pi^2}{6}\n",
    "$$\n",
    "\n",
    "---\n",
    "```py\n",
    "# Example Python code:\n",
    "\n",
    "def compute_series(n):\n",
    "    return sum(1 / i**2 for i in range(1, n+1))\n",
    "\n",
    "result = compute_series(100_000_000)  # takes ~23 seconds\n",
    "print(result)\n",
    "```\n",
    "---\n",
    "\n",
    "**Python** lets us to be concise in our implementation, but is embarrassingly slow.\n",
    "\n",
    "We can achieve some speed-up by expanding the loop, and working at a *slightly* lower level:\n",
    "\n",
    "---\n",
    "```py\n",
    "# Alternative Python code:\n",
    "\n",
    "def compute_series(n):\n",
    "    total = 0.0\n",
    "    for i in range(1, n+1):\n",
    "        total += 1 / (i * i)\n",
    "    return total\n",
    "\n",
    "result = compute_series(100_000_000)  # takes ~8.8 seconds\n",
    "print(result)\n",
    "```\n",
    "---\n",
    "\n",
    "What's the point of rewriting our clean and readable high-level code to verbose and less readable lower-level code if it's still going to be slow?\n",
    "\n",
    "The function body and logic is starting to look like C++, which runs almost two orders of magnitude faster:\n",
    "\n",
    "---\n",
    "```cpp\n",
    "// Example C++ code:\n",
    "\n",
    "#include <iostream>\n",
    "double compute_series(int n) {\n",
    "    double total = 0.0;\n",
    "    for (long long i = 1; i <= n; ++i) {\n",
    "        total += 1.0 / (i * i);\n",
    "    }\n",
    "    return total;\n",
    "}\n",
    "\n",
    "int main() {\n",
    "    double result = compute_series(100000000);  // takes ~0.15 seconds\n",
    "    std::cout << result << std::endl;\n",
    "    return 0;\n",
    "}\n",
    "```\n",
    "---\n",
    "\n",
    "<img width=\"70%\" src=\"https://cdn.hashnode.com/res/hashnode/image/upload/v1681735992315/62fdd58f-4630-4120-8eb4-5238740543e8.png\" />\n",
    "\n"
   ]
  },
  {
   "cell_type": "code",
   "execution_count": null,
   "metadata": {},
   "outputs": [],
   "source": [
    "# Julia implementation\n",
    "# as readable as Python\n",
    "# already on par with, if not faster than C++\n",
    "\n",
    "function compute_series(n)\n",
    "    return sum(1 / i^2 for i in 1:n)\n",
    "end\n",
    "\n",
    "@time compute_series(100_000_000)"
   ]
  },
  {
   "cell_type": "markdown",
   "metadata": {},
   "source": [
    "Julia achieves this through just-in-time compilation\n",
    "\n",
    "- your code gets compiled to machine code the first time it runs.\n",
    "\n",
    "- results in C-like performance with Python-like syntax."
   ]
  },
  {
   "cell_type": "code",
   "execution_count": null,
   "metadata": {},
   "outputs": [],
   "source": [
    "# Julia maintains its performance\n",
    "# even when written out explicitly\n",
    "\n",
    "function compute_series(n)\n",
    "    s = 0.0\n",
    "    for i in 1:n\n",
    "        s += 1 / i^2\n",
    "    end\n",
    "    return s \n",
    "end\n",
    "\n",
    "@time compute_series(100_000_000)"
   ]
  },
  {
   "cell_type": "markdown",
   "metadata": {},
   "source": [
    "- This is a simple numerical calculation.\n",
    "- **It should not have to take more than 5 lines of precious space.**\n",
    "- Julia can do it in one:"
   ]
  },
  {
   "cell_type": "code",
   "execution_count": null,
   "metadata": {},
   "outputs": [],
   "source": [
    "compute_series(n) = sum(1 / i^2 for i in 1:n)\n",
    "\n",
    "@time compute_series(100_000_000)"
   ]
  },
  {
   "cell_type": "code",
   "execution_count": null,
   "metadata": {},
   "outputs": [],
   "source": [
    "# native multi-threading support\n",
    "# with convenient packages for leveraging it \n",
    "\n",
    "using ThreadsX\n",
    "\n",
    "compute_series_threaded(n) = ThreadsX.sum(1 / i^2 for i in 1:n)"
   ]
  },
  {
   "cell_type": "code",
   "execution_count": null,
   "metadata": {},
   "outputs": [],
   "source": [
    "@time compute_series_threaded(100_000_000)"
   ]
  },
  {
   "cell_type": "markdown",
   "metadata": {},
   "source": [
    "<img width=\"30%\" src=\"https://images-cdn.welcomesoftware.com/Zz00ZWNmM2UzZWNjOTExMWVjOTIxNWEyNmQ2ODJlMTgxMA==/Radiology%20cherry-picking%20and%20workforce%20optimization.jpeg\" />\n",
    "\n",
    "### **Am I cherry-picking?**\n",
    "- **Yes. Computation is one of the things Julia excels at.**\n",
    "- **What you'll find is that Julia has a disproportionate amount of very sweet cherries.**\n",
    "- **The contrast is not always this stark, and language performance is a nuanced topic!**"
   ]
  },
  {
   "cell_type": "markdown",
   "metadata": {},
   "source": [
    "---"
   ]
  },
  {
   "cell_type": "markdown",
   "metadata": {},
   "source": [
    "## **Julia uses a multiple dispatch, functional programming paradigm** \n",
    "\n",
    "### 1. A single *function* can have multiple *methods*\n",
    "\n",
    "\"multiple\" includes none at all:\n",
    "\n",
    "```julia\n",
    "    # a function with no methods\n",
    "    function foo end\n",
    "```\n",
    "\n",
    "`foo` is just a *name* to which we can add methods.\n",
    "\n",
    "Functions are extended with new methods to accommodate different types under one umbrella to support both concrete and abstract types."
   ]
  },
  {
   "cell_type": "markdown",
   "metadata": {},
   "source": [
    "<img src=\"https://github.com/user-attachments/assets/192dd9e1-ca2f-4771-9fe1-92da5b8eb8f1\" />"
   ]
  },
  {
   "cell_type": "code",
   "execution_count": null,
   "metadata": {},
   "outputs": [],
   "source": [
    "foo(x::Integer) = 1        # foo(5) or foo(0x05)\n",
    "foo(x::AbstractFloat) = 2  # foo(5.0) or foo(5.0f0)\n",
    "\n",
    "foo(5)"
   ]
  },
  {
   "cell_type": "code",
   "execution_count": null,
   "metadata": {},
   "outputs": [],
   "source": [
    "\n",
    "foo(5.0)"
   ]
  },
  {
   "cell_type": "code",
   "execution_count": null,
   "metadata": {},
   "outputs": [],
   "source": [
    "foo(x::Bool) = 3\n",
    "\n",
    "foo(true)"
   ]
  },
  {
   "cell_type": "markdown",
   "metadata": {},
   "source": [
    "### 2. Dispatching is based on the types of *all* arguments\n",
    "\n",
    "```julia\n",
    "    foo(x::Real, y::Real) = x + y\n",
    "```\n",
    "\n",
    "Methods do *not* just belong to types themselves (as opposed to e.g. Python-style single dispatch).\n",
    "\n",
    "```julia\n",
    "    foo(x::Array{<:Real}, y::Real) = sum(x) + y  # foo([1, 2], 3)\n",
    "    foo(x::Real, y::Array{<:Real}) = x + sum(y)  # foo(2, [3, 4])\n",
    "```\n",
    "\n",
    "Method ambiguities (like `foo([1], [2])`) do not get resolved, and require disambiguation either :\n",
    "\n",
    "- defining `foo(::Array{<:Real}, ::Array{<:Real})`\n",
    "\n"
   ]
  },
  {
   "cell_type": "markdown",
   "metadata": {},
   "source": [
    "### 3. The compiler specializes on each combination of argument types"
   ]
  },
  {
   "cell_type": "code",
   "execution_count": null,
   "metadata": {},
   "outputs": [],
   "source": [
    "pow(x::Real, y::Real) = x^y"
   ]
  },
  {
   "cell_type": "code",
   "execution_count": null,
   "metadata": {},
   "outputs": [],
   "source": [
    "pow(2, 3)"
   ]
  },
  {
   "cell_type": "code",
   "execution_count": null,
   "metadata": {},
   "outputs": [],
   "source": [
    "pow(2.0, 3.0)"
   ]
  },
  {
   "cell_type": "code",
   "execution_count": null,
   "metadata": {},
   "outputs": [],
   "source": [
    "pow(1, 2.0)"
   ]
  },
  {
   "cell_type": "code",
   "execution_count": null,
   "metadata": {},
   "outputs": [],
   "source": [
    "methods(^)"
   ]
  },
  {
   "cell_type": "code",
   "execution_count": null,
   "metadata": {},
   "outputs": [],
   "source": [
    "@code_llvm pow(2, 3)"
   ]
  },
  {
   "cell_type": "code",
   "execution_count": null,
   "metadata": {},
   "outputs": [],
   "source": [
    "@code_llvm pow(2, 3.0)"
   ]
  },
  {
   "cell_type": "markdown",
   "metadata": {},
   "source": [
    "- Julia will compile `pow` three times\n",
    "  1. `x::Int, y::Int`\n",
    "  2. `x::Float64, y::Float64`\n",
    "  3. `x::Int, y::Float64`, which includes converting `x` to a `Float64`\n",
    "\n",
    "- By compiling different specializations Julia can do all the method lookup ahead of time.\n",
    "\n",
    "- Julia specializes on the *concrete* type.\n",
    "\n",
    "- Method signatures are just constraints for dispatching."
   ]
  },
  {
   "cell_type": "markdown",
   "metadata": {},
   "source": [
    "### 4. Methods can have additional constraints beyond individual argument types"
   ]
  },
  {
   "cell_type": "markdown",
   "metadata": {},
   "source": [
    "<img width=\"80%\" src=\"https://cdn.hashnode.com/res/hashnode/image/upload/v1681980418289/8da099db-a243-4908-8a55-b4e2a999fc0d.png?auto=compress,format&format=webp\" />"
   ]
  },
  {
   "cell_type": "code",
   "execution_count": null,
   "metadata": {},
   "outputs": [],
   "source": [
    "# general case\n",
    "same_type(x, y) = false\n",
    "\n",
    "# case where types of x and y match\n",
    "same_type(x::T, y::T) where {T} = true"
   ]
  },
  {
   "cell_type": "code",
   "execution_count": null,
   "metadata": {},
   "outputs": [],
   "source": [
    "same_type(1, \"hello\")"
   ]
  },
  {
   "cell_type": "code",
   "execution_count": null,
   "metadata": {},
   "outputs": [],
   "source": [
    "same_type(1, 2)"
   ]
  },
  {
   "cell_type": "markdown",
   "metadata": {},
   "source": [
    "## **Metaprogramming**\n",
    "\n",
    "As you have noticed, I've been using `@time` to time the execution of function calls.\n",
    "These are not just magic words, but are functions that change the input expressions. \n",
    "\n",
    "- Metaprogramming is about using programming to write code itself.\n",
    "- It's a powerful tool that lets you abstract away boilerplate code by hiding it behind a **macro**."
   ]
  },
  {
   "cell_type": "code",
   "execution_count": null,
   "metadata": {},
   "outputs": [],
   "source": [
    "@time sleep(1)"
   ]
  },
  {
   "cell_type": "code",
   "execution_count": null,
   "metadata": {},
   "outputs": [],
   "source": [
    "@assert 1 == 2"
   ]
  },
  {
   "cell_type": "code",
   "execution_count": null,
   "metadata": {},
   "outputs": [],
   "source": [
    "@macroexpand @assert 1 == 2"
   ]
  },
  {
   "cell_type": "markdown",
   "metadata": {},
   "source": [
    "## **`Array`, `AbstractArray`, and beyond**\n",
    "\n",
    "For scientific computation, arrays are very important,\n",
    "and with different representations of arrays, Julia's multiple dispatch paradigm proves useful"
   ]
  },
  {
   "cell_type": "markdown",
   "metadata": {},
   "source": [
    "### The `Array` type\n",
    "\n",
    "In Julia, the `Array` type is a densely stored collection of elements, with a dimensionality and shape.\n",
    "\n",
    "When the dimensionality is `1`, we call the array a `Vector`:"
   ]
  },
  {
   "cell_type": "code",
   "execution_count": null,
   "metadata": {},
   "outputs": [],
   "source": [
    "v = [1, 2, 3]"
   ]
  },
  {
   "cell_type": "code",
   "execution_count": null,
   "metadata": {},
   "outputs": [],
   "source": [
    "v isa Vector{Int}"
   ]
  },
  {
   "cell_type": "code",
   "execution_count": null,
   "metadata": {},
   "outputs": [],
   "source": [
    "Vector"
   ]
  },
  {
   "cell_type": "code",
   "execution_count": null,
   "metadata": {},
   "outputs": [],
   "source": [
    "v isa Array"
   ]
  },
  {
   "cell_type": "code",
   "execution_count": null,
   "metadata": {},
   "outputs": [],
   "source": [
    "# it can be mutated to add more elements\n",
    "push!(v, 4)"
   ]
  },
  {
   "cell_type": "code",
   "execution_count": null,
   "metadata": {},
   "outputs": [],
   "source": [
    "deleteat!(v, 4)"
   ]
  },
  {
   "cell_type": "code",
   "execution_count": null,
   "metadata": {},
   "outputs": [],
   "source": [
    "append!(v, 4:6)"
   ]
  },
  {
   "cell_type": "code",
   "execution_count": null,
   "metadata": {},
   "outputs": [],
   "source": [
    "deleteat!(v, 4:6)"
   ]
  },
  {
   "cell_type": "code",
   "execution_count": null,
   "metadata": {},
   "outputs": [],
   "source": [
    "# vectors in Julia are technically column vectors\n",
    "# row vectors are matrices of size (1, length)\n",
    "[1 2 3 4]"
   ]
  },
  {
   "cell_type": "code",
   "execution_count": null,
   "metadata": {},
   "outputs": [],
   "source": [
    "m = [1 2 3;\n",
    "     4 5 6]"
   ]
  },
  {
   "cell_type": "code",
   "execution_count": null,
   "metadata": {},
   "outputs": [],
   "source": [
    "# transposing (swapping first and second dimension)\n",
    "m'"
   ]
  },
  {
   "cell_type": "code",
   "execution_count": null,
   "metadata": {},
   "outputs": [],
   "source": [
    "ones(2, 3)"
   ]
  },
  {
   "cell_type": "code",
   "execution_count": null,
   "metadata": {},
   "outputs": [],
   "source": [
    "reshape(fill(100.0, (4, 10)), 4, 5, 2)"
   ]
  },
  {
   "cell_type": "code",
   "execution_count": null,
   "metadata": {},
   "outputs": [],
   "source": []
  },
  {
   "cell_type": "code",
   "execution_count": null,
   "metadata": {},
   "outputs": [],
   "source": [
    "A = reshape(1:6, 3, 2)'"
   ]
  },
  {
   "cell_type": "code",
   "execution_count": null,
   "metadata": {},
   "outputs": [],
   "source": [
    "B = reshape(7:12, 2, 3)'"
   ]
  },
  {
   "cell_type": "code",
   "execution_count": null,
   "metadata": {},
   "outputs": [],
   "source": [
    "# matrix multiplications are commonly used\n",
    "A * B"
   ]
  },
  {
   "cell_type": "markdown",
   "metadata": {},
   "source": [
    "<img width=\"70%\" src=\"https://www.mathsisfun.com/algebra/images/matrix-multiply-a.svg\" />"
   ]
  },
  {
   "cell_type": "markdown",
   "metadata": {},
   "source": [
    "### **The `AbstractArray{T,N}` type**\n",
    "\n",
    "- An abstract type, parameterized with element type and array dimensionality.\n",
    "\n",
    "- Agnostic to storage patterns and devices (CPU, GPU).\n",
    "\n",
    "- Implements generic definitions for any array, e.g.:\n",
    "\n",
    "  - `length(array::AbstractArray)` is `prod(size(array))`.\n",
    "\n",
    "  - `sum(array::AbstractArray)` iterates over elements and returns the sum.\n",
    "\n",
    "  - `reshape(array::AbstractArray, size)` .\n",
    "  \n",
    "    - `Array` just holds a pointer and size, so `reshape(::Array, size)` keeps the pointer, but changes the `size`"
   ]
  },
  {
   "cell_type": "code",
   "execution_count": null,
   "metadata": {},
   "outputs": [],
   "source": [
    "using LinearAlgebra\n",
    "\n",
    "# a sparsely stored AbstractMatrix type\n",
    "sparse_diagonal = Diagonal(rand(1:4, 100))"
   ]
  },
  {
   "cell_type": "code",
   "execution_count": null,
   "metadata": {},
   "outputs": [],
   "source": [
    "@be sum($sparse_diagonal)"
   ]
  },
  {
   "cell_type": "code",
   "execution_count": null,
   "metadata": {},
   "outputs": [],
   "source": [
    "dense_diagonal = collect(sparse_diagonal)"
   ]
  },
  {
   "cell_type": "code",
   "execution_count": null,
   "metadata": {},
   "outputs": [],
   "source": [
    "@be sum($dense_diagonal)"
   ]
  },
  {
   "cell_type": "code",
   "execution_count": 56,
   "metadata": {},
   "outputs": [],
   "source": [
    "\"\"\"\n",
    "    OneHotArray{N}\n",
    "\n",
    "Stores the index and size of an array, with the element at the given index being `true`,\n",
    "and all other elements being `false`.\n",
    "\"\"\"\n",
    "struct OneHotArray{N} <: AbstractArray{Bool,N}\n",
    "    index::NTuple{N,Int}\n",
    "    size::NTuple{N,Int}\n",
    "end\n",
    "\n",
    "Base.size(A::OneHotArray) = A.size\n",
    "\n",
    "Base.getindex(A::OneHotArray{N}, i::Vararg{Int,N}) where {N} = (i == A.index)\n",
    "\n",
    "OneHotArray(index::Int, length::Int) = OneHotArray((index,), (length,))\n",
    "\n",
    "onehot(element, collection::AbstractArray) = OneHotArray(Tuple(findfirst(==(element), collection)), size(collection))\n",
    "onehot(element, collection) = OneHotArray(findfirst(==(element), collection), length(collection))\n",
    "\n",
    "unhot(A::OneHotArray, collection) = collection[A.index...]\n",
    "\n",
    "# pretty printing with ⋅ for false values\n",
    "function Base.replace_in_print_matrix(x::OneHotArray{N}, i::Integer, j::Integer, s::AbstractString) where N\n",
    "    x[i,j] ? s : Base.replace_with_centered_mark(s)\n",
    "end\n"
   ]
  },
  {
   "cell_type": "code",
   "execution_count": null,
   "metadata": {},
   "outputs": [],
   "source": [
    "# a constructor has been implicitly created:\n",
    "A = OneHotArray((3, 4), (6, 8))"
   ]
  },
  {
   "cell_type": "code",
   "execution_count": null,
   "metadata": {},
   "outputs": [],
   "source": [
    "B = OneHotArray(50_000, 100_000)\n",
    "\n",
    "@be sum($B)"
   ]
  },
  {
   "cell_type": "code",
   "execution_count": 59,
   "metadata": {},
   "outputs": [],
   "source": [
    "Base.sum(A::OneHotArray) = 1"
   ]
  },
  {
   "cell_type": "code",
   "execution_count": null,
   "metadata": {},
   "outputs": [],
   "source": [
    "@be sum($B)"
   ]
  },
  {
   "cell_type": "code",
   "execution_count": null,
   "metadata": {},
   "outputs": [],
   "source": [
    "A = rand(30, 40)"
   ]
  },
  {
   "cell_type": "code",
   "execution_count": null,
   "metadata": {},
   "outputs": [],
   "source": [
    "B = OneHotArray(2, 40)"
   ]
  },
  {
   "cell_type": "code",
   "execution_count": null,
   "metadata": {},
   "outputs": [],
   "source": [
    "@be $A * $B"
   ]
  },
  {
   "cell_type": "code",
   "execution_count": null,
   "metadata": {},
   "outputs": [],
   "source": [
    "import Base: *\n",
    "\n",
    "const OneHotVector = OneHotArray{1}\n",
    "const OneHotMatrix = OneHotArray{2}\n",
    "\n",
    "(*)(A::AbstractMatrix, B::OneHotVector) = A[:, B.index...]"
   ]
  },
  {
   "cell_type": "code",
   "execution_count": null,
   "metadata": {},
   "outputs": [],
   "source": [
    "@be $A * $B"
   ]
  },
  {
   "cell_type": "code",
   "execution_count": null,
   "metadata": {},
   "outputs": [],
   "source": [
    "(*)(A::AbstractMatrix, B::OneHotVector) = @view A[:, B.index...]"
   ]
  },
  {
   "cell_type": "code",
   "execution_count": null,
   "metadata": {},
   "outputs": [],
   "source": [
    "@be $A * $B"
   ]
  },
  {
   "cell_type": "markdown",
   "metadata": {},
   "source": [
    "## **Broadcasting and Vectorization**\n",
    "\n",
    "Loop-free, allocation-free, element-wise arithmetic\n",
    "\n",
    "* **What it is:**\n",
    "    - A *dot* (`.`) placed in front of a function or operator tells Julia to call that\n",
    "      function on **each element** of its arguments.  \n",
    "    - The compiler fuses every dotted operation in the same expression into a\n",
    "      single loop, so you pay for *one* pass and no intermediate arrays.\n",
    "\n",
    "*   **Why it matters:**\n",
    "    - Speed comparable to a handwritten for loops.\n",
    "    - Works the same on CPU and GPU arrays.  \n",
    "    - Plays nicely with broadcasting assignment (`.=`) so you can update\n",
    "      arrays in-place.\n",
    "\n",
    "### 1. Basic element-wise arithmetic"
   ]
  },
  {
   "cell_type": "code",
   "execution_count": null,
   "metadata": {},
   "outputs": [],
   "source": [
    "a = collect(1:5)"
   ]
  },
  {
   "cell_type": "code",
   "execution_count": null,
   "metadata": {},
   "outputs": [],
   "source": [
    "b = collect(1:5) .* 10"
   ]
  },
  {
   "cell_type": "code",
   "execution_count": null,
   "metadata": {},
   "outputs": [],
   "source": [
    "c = a .+ b"
   ]
  },
  {
   "cell_type": "code",
   "execution_count": null,
   "metadata": {},
   "outputs": [],
   "source": [
    "d = sin.(a) .+ cos.(b)"
   ]
  },
  {
   "cell_type": "code",
   "execution_count": null,
   "metadata": {},
   "outputs": [],
   "source": [
    "e = @. exp(a) / (1 + b)    # @. adds the dot *everywhere*"
   ]
  },
  {
   "cell_type": "markdown",
   "metadata": {},
   "source": [
    "### 2. In-place updates with `.=`"
   ]
  },
  {
   "cell_type": "code",
   "execution_count": null,
   "metadata": {},
   "outputs": [],
   "source": [
    "x = rand(10^6)\n",
    "y = rand(10^6)\n",
    "\n",
    "x .+= 2y .- 0.5            # mutate `x` in one fused operation, no allocations"
   ]
  },
  {
   "cell_type": "markdown",
   "metadata": {},
   "source": [
    "### 3. Functions broadcast for free"
   ]
  },
  {
   "cell_type": "code",
   "execution_count": null,
   "metadata": {},
   "outputs": [],
   "source": [
    "hypot(a, b) = sqrt(a^2 + b^2)\n",
    "\n",
    "a  = 3\n",
    "b  = [1, 2, 3, 4, 5]\n",
    "\n",
    "c = hypot.(a, b)       # 2-D broadcast (row × column) → Matrix"
   ]
  },
  {
   "cell_type": "code",
   "execution_count": 86,
   "metadata": {},
   "outputs": [],
   "source": [
    "function loop_add!(dest, p, q)\n",
    "    @inbounds for i in eachindex(dest)\n",
    "        dest[i] = p[i] + q[i]\n",
    "    end\n",
    "    dest\n",
    "end\n",
    "\n",
    "p = rand(10^6)\n",
    "q = rand(10^6)\n",
    "dest = similar(p);"
   ]
  },
  {
   "cell_type": "code",
   "execution_count": null,
   "metadata": {},
   "outputs": [],
   "source": [
    "@be loop_add!(dest, p, q)  # handwritten loop"
   ]
  },
  {
   "cell_type": "code",
   "execution_count": null,
   "metadata": {},
   "outputs": [],
   "source": [
    "@be dest .= p .+ q         # fused broadcast"
   ]
  },
  {
   "cell_type": "markdown",
   "metadata": {},
   "source": [
    "### 4. Broadcasting will repeat \"singleton\" dimensions\n",
    "\n",
    "<img width=\"30%\" src=\"https://cdn.hashnode.com/res/hashnode/image/upload/v1695327323207/2mac9kM1v.png?auto=format\" />"
   ]
  },
  {
   "cell_type": "code",
   "execution_count": null,
   "metadata": {},
   "outputs": [],
   "source": [
    "a = [1 2 3]"
   ]
  },
  {
   "cell_type": "code",
   "execution_count": null,
   "metadata": {},
   "outputs": [],
   "source": [
    "b = reshape(1:18, 6, 3)"
   ]
  },
  {
   "cell_type": "code",
   "execution_count": null,
   "metadata": {},
   "outputs": [],
   "source": [
    "a .* b"
   ]
  },
  {
   "cell_type": "code",
   "execution_count": null,
   "metadata": {},
   "outputs": [],
   "source": [
    "# equivalent to single line, comma-separated:\n",
    "v = [2\n",
    "     3\n",
    "     5\n",
    "     7]\n"
   ]
  },
  {
   "cell_type": "code",
   "execution_count": null,
   "metadata": {},
   "outputs": [],
   "source": [
    "reshape(v, 1, :)"
   ]
  },
  {
   "cell_type": "code",
   "execution_count": null,
   "metadata": {},
   "outputs": [],
   "source": [
    "# A (size m×1) and B (1×n\n",
    "v .* v'"
   ]
  },
  {
   "cell_type": "markdown",
   "metadata": {},
   "source": [
    "### **Parallelism**\n",
    "\n",
    "- Hardware is becoming increasingly parallel.\n",
    "- Languages like Python suffer from design choices (like the GIL) that prevent you from leveraging CPU-bound multi-threading natively.\n",
    "- Julia code natively extends to parallel hardware."
   ]
  },
  {
   "cell_type": "code",
   "execution_count": 97,
   "metadata": {},
   "outputs": [],
   "source": [
    "A = rand(100_000_000);"
   ]
  },
  {
   "cell_type": "code",
   "execution_count": null,
   "metadata": {},
   "outputs": [],
   "source": [
    "polynomial(x) = @. x + 2x^2 - x^3"
   ]
  },
  {
   "cell_type": "code",
   "execution_count": null,
   "metadata": {},
   "outputs": [],
   "source": [
    "@be polynomial($A)"
   ]
  },
  {
   "cell_type": "code",
   "execution_count": null,
   "metadata": {},
   "outputs": [],
   "source": [
    "\n",
    "B = cu(A)"
   ]
  },
  {
   "cell_type": "code",
   "execution_count": null,
   "metadata": {},
   "outputs": [],
   "source": [
    "using CUDA\n"
   ]
  },
  {
   "cell_type": "code",
   "execution_count": null,
   "metadata": {},
   "outputs": [],
   "source": [
    "@be CUDA.@sync polynomial(B)"
   ]
  },
  {
   "cell_type": "markdown",
   "metadata": {},
   "source": [
    "### **Einops**\n",
    "\n",
    "<center>\n",
    "  <img width=\"80%\" alt=\"Image\" src=\"https://github.com/user-attachments/assets/73d61b66-90ef-4927-add0-c118cf973626\" align=\"middle\" />\n",
    "</center>"
   ]
  },
  {
   "cell_type": "code",
   "execution_count": null,
   "metadata": {},
   "outputs": [],
   "source": [
    "using Einops, Colors\n",
    "\n",
    "image = [colorant\"red\" colorant\"lime\" colorant\"blue\"\n",
    "         colorant\"orange\" colorant\"cyan\" colorant\"magenta\"]"
   ]
  },
  {
   "cell_type": "code",
   "execution_count": null,
   "metadata": {},
   "outputs": [],
   "source": [
    "size(image)"
   ]
  },
  {
   "cell_type": "code",
   "execution_count": null,
   "metadata": {},
   "outputs": [],
   "source": [
    "reshape(image, 1, 6)"
   ]
  },
  {
   "cell_type": "code",
   "execution_count": null,
   "metadata": {},
   "outputs": [],
   "source": [
    "rearrange(image, einops\"h w -> w h\")"
   ]
  },
  {
   "cell_type": "code",
   "execution_count": null,
   "metadata": {},
   "outputs": [],
   "source": [
    "repeat(image, einops\"h w -> (h 2) (w 2)\")"
   ]
  },
  {
   "cell_type": "code",
   "execution_count": null,
   "metadata": {},
   "outputs": [],
   "source": [
    "tiled_image = repeat(image, einops\"h w -> (2 h 3) (4 w)\")"
   ]
  },
  {
   "cell_type": "code",
   "execution_count": null,
   "metadata": {},
   "outputs": [],
   "source": [
    "A = reshape(collect(1:30), 3, 5, 2)"
   ]
  },
  {
   "cell_type": "code",
   "execution_count": null,
   "metadata": {},
   "outputs": [],
   "source": [
    "rearrange(A, einops\"h w b -> w h b\")"
   ]
  },
  {
   "cell_type": "markdown",
   "metadata": {},
   "source": [
    "## **Automatic differentiation (AD)**\n",
    "\n"
   ]
  },
  {
   "cell_type": "markdown",
   "metadata": {},
   "source": [
    "Derivatives/gradients compute the rate of change of a function's output with respect to input(s)\n",
    "\n",
    "$$\n",
    "\\frac{d}{dx}f(x) = \\lim_{h \\rightarrow 0} \\frac{f(x + h) - f(x)}{h}\n",
    "$$\n",
    "\n",
    "- Optimization problems\n",
    "- Machine learning\n"
   ]
  },
  {
   "cell_type": "code",
   "execution_count": null,
   "metadata": {},
   "outputs": [],
   "source": [
    "# automatic differentiation package\n",
    "using Zygote\n",
    "\n",
    "h(x) = sin(x)^2\n",
    "h′(x) = gradient(h, x)"
   ]
  },
  {
   "cell_type": "code",
   "execution_count": null,
   "metadata": {},
   "outputs": [],
   "source": [
    "n = 2.0\n",
    "@be h′($n)"
   ]
  },
  {
   "cell_type": "markdown",
   "metadata": {},
   "source": [
    "### **AD backends like Zygote scale to gradients of very big and complex functions with millions/billions of learnable parameters**"
   ]
  },
  {
   "cell_type": "code",
   "execution_count": 105,
   "metadata": {},
   "outputs": [],
   "source": [
    "struct Dense\n",
    "    weight::AbstractMatrix\n",
    "    bias::AbstractVector\n",
    "    activation::Function\n",
    "end\n",
    "\n",
    "function Dense(in_dim::Integer, out_dim::Integer, activation=identity)\n",
    "    weight = randn(out_dim, in_dim) * sqrt(2 / (in_dim+out_dim))\n",
    "    bias = zeros(out_dim)\n",
    "    Dense(weight, bias, activation)\n",
    "end\n",
    "\n",
    "(dense::Dense)(x::AbstractVecOrMat) = dense.activation.(dense.weight * x .+ dense.bias)\n",
    "\n",
    "function (dense::Dense)(x::AbstractArray)\n",
    "    x_flat = reshape(x, size(x, 1), :)\n",
    "    y_flat = dense(x_flat)\n",
    "    y = reshape(y_flat, size(y_flat, 1), size(x)[2:end]...)\n",
    "    return y\n",
    "end"
   ]
  },
  {
   "cell_type": "code",
   "execution_count": null,
   "metadata": {},
   "outputs": [],
   "source": [
    "using Zygote, Statistics\n",
    "\n",
    "model = Dense(8, 2)\n",
    "\n",
    "n_batches = 10\n",
    "x = rand(8, n_batches)\n",
    "y = [zeros(n_batches ÷ 2); ones(n_batches ÷ 2)]'\n",
    "\n",
    "losses = []\n",
    "learning_rate = 0.01\n",
    "for i in 0:1000\n",
    "    loss, (∇model,) = Zygote.withgradient(model -> mean(abs2, model(x) .- y), model)\n",
    "    model.weight .-= ∇model.weight * learning_rate\n",
    "    model.bias .-= ∇model.bias * learning_rate\n",
    "\n",
    "    push!(losses, loss)\n",
    "    iszero(i % 100) && println(\"i = $i, loss = $loss\")\n",
    "end"
   ]
  },
  {
   "cell_type": "markdown",
   "metadata": {},
   "source": [
    "### Bonus: Symbolic Differentiation"
   ]
  },
  {
   "cell_type": "code",
   "execution_count": null,
   "metadata": {},
   "outputs": [],
   "source": [
    "using Symbolics, SpecialFunctions\n",
    "\n",
    "@variables x y\n",
    "\n",
    "z = x^2 * sin(cbrt(y)*x)^x^gamma(gamma(x))"
   ]
  },
  {
   "cell_type": "code",
   "execution_count": null,
   "metadata": {},
   "outputs": [],
   "source": [
    "Symbolics.derivative(z, x)"
   ]
  },
  {
   "cell_type": "code",
   "execution_count": null,
   "metadata": {},
   "outputs": [],
   "source": [
    "dz_dx = Symbolics.derivative(z, x)\n",
    "f′ = eval(build_function(dz_dx, x, y))"
   ]
  },
  {
   "cell_type": "code",
   "execution_count": null,
   "metadata": {},
   "outputs": [],
   "source": [
    "@be f′($1, $2)"
   ]
  },
  {
   "cell_type": "markdown",
   "metadata": {},
   "source": [
    "## **Ecosystem and interoperability**\n",
    "\n",
    "- Julia has a rich ecosystem with >10000 packages.\n",
    "- There exists thousands of packages providing bindings for compiled binaries.\n"
   ]
  },
  {
   "cell_type": "markdown",
   "metadata": {},
   "source": [
    "### **Compile-time latency**\n",
    "\n",
    "- Julia suffers from high \"Time To First X\" (TTFX).\n",
    "- Running methods for the first time after updating your packages can have high latency depending on dependencies."
   ]
  },
  {
   "cell_type": "markdown",
   "metadata": {},
   "source": [
    "### **Calling C libraries from Julia**"
   ]
  },
  {
   "cell_type": "code",
   "execution_count": null,
   "metadata": {},
   "outputs": [],
   "source": [
    "run(`gcc -shared -fPIC -O3 -o compute_series.so examples/compute_series.c`)"
   ]
  },
  {
   "cell_type": "code",
   "execution_count": null,
   "metadata": {},
   "outputs": [],
   "source": [
    "function compute_series_c(n::Int)\n",
    "    ccall((:compute_series, \"./compute_series.so\"), Cdouble, (Cint,), n)\n",
    "end"
   ]
  },
  {
   "cell_type": "code",
   "execution_count": null,
   "metadata": {},
   "outputs": [],
   "source": [
    "@time compute_series_c(100_000_000)"
   ]
  },
  {
   "cell_type": "markdown",
   "metadata": {},
   "source": [
    "## **Installation and setup**\n",
    "\n",
    "The recommended way of installing Julia is using `juliaup`:\n",
    "\n",
    "### Mac, Linux:\n",
    "\n",
    "`curl -fsSL https://install.julialang.org | sh`\n",
    "\n",
    "### Windows:\n",
    "\n",
    "`winget install --name Julia --id 9NJNWW8PVKMN -e -s msstore`"
   ]
  },
  {
   "cell_type": "markdown",
   "metadata": {},
   "source": [
    "### Make your Julia experience smoother with a `startup.jl` file:\n",
    "\n",
    "- Runs every time you start Julia.\n",
    "- Optionally disable with `julia --startup-file=no`.\n",
    "- Located at `~/.julia/config/startup.jl`"
   ]
  },
  {
   "cell_type": "code",
   "execution_count": null,
   "metadata": {},
   "outputs": [],
   "source": [
    "@bs sin(1)"
   ]
  },
  {
   "cell_type": "code",
   "execution_count": null,
   "metadata": {},
   "outputs": [],
   "source": [
    "# package/code updates through file-watching\n",
    "using Revise\n",
    "\n",
    "# `{@b,@be,@bs} <expr>` for fast benchmarking\n",
    "using PrettyChairmarks\n",
    "\n",
    "# syntax highlighting, bracket completion\n",
    "using OhMyREPL\n",
    "\n",
    "# colorschemes at:\n",
    "# https://kristofferc.github.io/OhMyREPL.jl/stable/features/syntax_highlighting/\n",
    "colorscheme!(\"GitHubDark\")\n",
    "\n",
    "# fix bug where `[` + `]` results in `[]]`\n",
    "@async begin\n",
    "    while !isdefined(Base, :active_repl) sleep(0.1) end\n",
    "    OhMyREPL.Prompt.insert_keybindings()\n",
    "end\n",
    "\n",
    "# ^^ this snippet is a subset of https://gist.github.com/AntonOresten/e37c22afe5798604a43eb520e3f40c71"
   ]
  },
  {
   "cell_type": "markdown",
   "metadata": {},
   "source": [
    "### AntonOresten on GitHub\n",
    "\n",
    "This notebook will be available at https://github.com/AntonOresten/Intro.jl\n",
    "\n",
    "<img width=\"20%\" src=\"https://avatars.githubusercontent.com/u/96627903?v=4\" />\n",
    "\n",
    "### If you have any questions you could:\n",
    "- email me at antonoresten@gmail.com\n",
    "- open an issue in https://github.com/AntonOresten/Intro.jl\n",
    "- ask ChatGPT, Claude, Gemini, or DeepSeek, etc.\n",
    "- do NOT ask `hotdog-bruh-v1`\n",
    "\n",
    "![Image](https://github.com/user-attachments/assets/2b59c01b-94b5-4642-bf00-7b3423d35806)\n",
    "\n",
    "![Image](https://github.com/user-attachments/assets/dda22aac-5958-439f-92c5-2b34480a605a)\n"
   ]
  }
 ],
 "metadata": {
  "kernelspec": {
   "display_name": "Julia 1.11.5",
   "language": "julia",
   "name": "julia-1.11"
  },
  "language_info": {
   "file_extension": ".jl",
   "mimetype": "application/julia",
   "name": "julia",
   "version": "1.11.5"
  }
 },
 "nbformat": 4,
 "nbformat_minor": 2
}
